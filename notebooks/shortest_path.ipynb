{
 "cells": [
  {
   "cell_type": "markdown",
   "metadata": {},
   "source": [
    "# Shortest path\n",
    "\n",
    "Shortest path between two stations via any starting/finishing platform"
   ]
  },
  {
   "cell_type": "code",
   "execution_count": null,
   "metadata": {},
   "outputs": [],
   "source": [
    "from zone1tube.data.stations import ExtStations\n",
    "import numpy as np\n",
    "\n",
    "\n",
    "with open(\"../zone1.json\", \"r\") as f:\n",
    "    stations = ExtStations.validate_json(f.read())\n",
    "\n",
    "\n",
    "station_lookup = {s.id: s.name for s in stations}\n",
    "line_lookup = {d.line_ref: d.line_name for s in stations for d in s.destinations}"
   ]
  },
  {
   "cell_type": "code",
   "execution_count": null,
   "metadata": {},
   "outputs": [],
   "source": [
    "from zone1tube.algorithms.graph import generate_graph\n",
    "\n",
    "\n",
    "graph = generate_graph(stations, 7)"
   ]
  },
  {
   "cell_type": "markdown",
   "metadata": {},
   "source": [
    "Calculate all shortest paths"
   ]
  },
  {
   "cell_type": "code",
   "execution_count": null,
   "metadata": {},
   "outputs": [],
   "source": [
    "from scipy.sparse.csgraph import shortest_path\n",
    "\n",
    "\n",
    "dists, predecessors = shortest_path(\n",
    "    graph.csr_m, directed=True, return_predecessors=True\n",
    ")"
   ]
  },
  {
   "cell_type": "markdown",
   "metadata": {},
   "source": [
    "From the starting and finish station map to ids"
   ]
  },
  {
   "cell_type": "code",
   "execution_count": null,
   "metadata": {},
   "outputs": [],
   "source": [
    "from_station = \"Liverpool Street\"\n",
    "to_station = \"Bayswater\"\n",
    "from_id = next(s.id for s in stations if s.name == from_station)\n",
    "to_id = next(s.id for s in stations if s.name == to_station)\n",
    "\n",
    "from_platforms = [graph.node_inverse_lookup[n] for n in graph.platform_lookup[from_id]]\n",
    "to_platforms = [graph.node_inverse_lookup[n] for n in graph.platform_lookup[to_id]]"
   ]
  },
  {
   "cell_type": "markdown",
   "metadata": {},
   "source": [
    "Find the platforms at the start and the shortest times to get to a platform at the destination"
   ]
  },
  {
   "cell_type": "code",
   "execution_count": null,
   "metadata": {},
   "outputs": [],
   "source": [
    "shortest_from_tos = [\n",
    "    x\n",
    "    for x in (\n",
    "        (graph.node_lookup[i],)\n",
    "        + min(\n",
    "            *((graph.node_lookup[j], dists[i, j]) for j in to_platforms),\n",
    "            key=lambda x: x[1],\n",
    "        )\n",
    "        for i in from_platforms\n",
    "    )\n",
    "    if x[2] < np.inf\n",
    "]\n",
    "shortest_from_tos"
   ]
  },
  {
   "cell_type": "markdown",
   "metadata": {},
   "source": [
    "Reconstruct the routes for each path"
   ]
  },
  {
   "cell_type": "code",
   "execution_count": null,
   "metadata": {},
   "outputs": [],
   "source": [
    "def reconstruct_path(i: int, j: int, path=None):\n",
    "    if path is None:\n",
    "        path = []\n",
    "    previous = predecessors[i, j]\n",
    "    if previous == i:\n",
    "        return (path + [j, i])[::-1]\n",
    "    return reconstruct_path(i, previous, path=path + [j])\n",
    "\n",
    "\n",
    "def node_to_str(n):\n",
    "    station_id, line_ref = n\n",
    "    return f\"{station_lookup[station_id]} -> {line_lookup[line_ref]}\"\n",
    "\n",
    "\n",
    "for route, _ in sorted(\n",
    "    [\n",
    "        (\n",
    "            \"\\n\".join(\n",
    "                node_to_str(graph.node_lookup[s])\n",
    "                for s in reconstruct_path(\n",
    "                    graph.node_inverse_lookup[from_n], graph.node_inverse_lookup[to_n]\n",
    "                )\n",
    "            )\n",
    "            + f\": {dist} min\\n\",\n",
    "            dist,\n",
    "        )\n",
    "        for from_n, to_n, dist in shortest_from_tos\n",
    "    ],\n",
    "    key=lambda x: x[1],\n",
    "):\n",
    "    print(route)"
   ]
  }
 ],
 "metadata": {
  "kernelspec": {
   "display_name": ".venv",
   "language": "python",
   "name": "python3"
  },
  "language_info": {
   "codemirror_mode": {
    "name": "ipython",
    "version": 3
   },
   "file_extension": ".py",
   "mimetype": "text/x-python",
   "name": "python",
   "nbconvert_exporter": "python",
   "pygments_lexer": "ipython3",
   "version": "3.12.3"
  }
 },
 "nbformat": 4,
 "nbformat_minor": 2
}
